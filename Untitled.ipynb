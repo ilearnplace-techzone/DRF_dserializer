{
 "cells": [
  {
   "cell_type": "markdown",
   "metadata": {},
   "source": [
    "#  Decorators Function"
   ]
  },
  {
   "cell_type": "code",
   "execution_count": 16,
   "metadata": {},
   "outputs": [
    {
     "name": "stdout",
     "output_type": "stream",
     "text": [
      "1 dec modify\n",
      "2 vicky is good boy\n",
      "3 normal fun\n",
      "4 dec modify\n"
     ]
    }
   ],
   "source": [
    "def decor(result):\n",
    "    def insaid():\n",
    "        print(\"1 dec modify\")\n",
    "        result()\n",
    "        print(\"4 dec modify\")\n",
    "    return insaid    \n",
    "        \n",
    "def result():\n",
    "    print(\"2 vicky is good boy\")\n",
    "    print(\"3 normal fun\")\n",
    "result_fun = decor(result)\n",
    "result_fun()    \n",
    "    "
   ]
  },
  {
   "cell_type": "code",
   "execution_count": null,
   "metadata": {},
   "outputs": [],
   "source": []
  },
  {
   "cell_type": "code",
   "execution_count": 15,
   "metadata": {},
   "outputs": [
    {
     "name": "stdout",
     "output_type": "stream",
     "text": [
      "1 vicky is good boy\n",
      "2 normal fun\n"
     ]
    }
   ],
   "source": [
    "def result():\n",
    "    print(\"1 vicky is good boy\")\n",
    "    print(\"2 normal fun\")\n",
    "result()"
   ]
  },
  {
   "cell_type": "code",
   "execution_count": null,
   "metadata": {},
   "outputs": [],
   "source": []
  },
  {
   "cell_type": "code",
   "execution_count": null,
   "metadata": {},
   "outputs": [],
   "source": []
  },
  {
   "cell_type": "code",
   "execution_count": 17,
   "metadata": {},
   "outputs": [
    {
     "name": "stdout",
     "output_type": "stream",
     "text": [
      "1 dec modify\n",
      "2 vicky is good boy\n",
      "3 normal fun\n",
      "4 dec modify\n"
     ]
    }
   ],
   "source": [
    "def decor(fun):\n",
    "    def insaid():\n",
    "        print(\"1 dec modify\")\n",
    "        fun()\n",
    "        print(\"4 dec modify\")\n",
    "    return insaid    \n",
    "@decor     \n",
    "def result():\n",
    "    print(\"2 vicky is good boy\")\n",
    "    print(\"3 normal fun\")\n",
    "\n",
    "result()"
   ]
  },
  {
   "cell_type": "code",
   "execution_count": null,
   "metadata": {},
   "outputs": [],
   "source": []
  }
 ],
 "metadata": {
  "kernelspec": {
   "display_name": "Python 3",
   "language": "python",
   "name": "python3"
  },
  "language_info": {
   "codemirror_mode": {
    "name": "ipython",
    "version": 3
   },
   "file_extension": ".py",
   "mimetype": "text/x-python",
   "name": "python",
   "nbconvert_exporter": "python",
   "pygments_lexer": "ipython3",
   "version": "3.8.5"
  }
 },
 "nbformat": 4,
 "nbformat_minor": 4
}
